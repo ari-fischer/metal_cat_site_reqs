{
 "cells": [
  {
   "cell_type": "code",
   "execution_count": null,
   "metadata": {
    "scrolled": true
   },
   "outputs": [],
   "source": [
    "import pandas as pd\n",
    "import numpy as np\n",
    "import scipy as sci\n",
    "from matplotlib import pyplot as plt\n",
    "from ase import Atoms\n",
    "from ase.visualize import view\n",
    "from ase.io import read\n",
    "from ase.io import write\n",
    "from ase.build import molecule\n",
    "from ase import units"
   ]
  },
  {
   "cell_type": "code",
   "execution_count": null,
   "metadata": {},
   "outputs": [],
   "source": [
    "import sys\n",
    "\n",
    "sys.path.append(\"custom_functions\")\n",
    "\n",
    "from excluded_area import *"
   ]
  },
  {
   "cell_type": "code",
   "execution_count": null,
   "metadata": {},
   "outputs": [],
   "source": [
    "from platform import python_version\n",
    "\n",
    "print(python_version())"
   ]
  },
  {
   "cell_type": "markdown",
   "metadata": {},
   "source": [
    "Read the geometry file using ASE"
   ]
  },
  {
   "cell_type": "code",
   "execution_count": null,
   "metadata": {
    "scrolled": true
   },
   "outputs": [],
   "source": [
    "#path to geometry file (VASP CONCAR in this example)\n",
    "\n",
    "# *NOTE* -code will consider an adsorbate spanning a periodic boundary as two separate\n",
    "# fragments. For instance, the C-atoms forming a C1-C2 bond with C1 at x=0.05 and C2 at x=0.95 (fractional coordinates) \n",
    "# will not overlap.\n",
    "\n",
    "name_file = 'CO_FF_opt_example.xyz'\n",
    "\n",
    "#use ASE to read file and open as atoms object\n",
    "atoms = read(name_file)\n",
    "\n",
    "#grid cube dimension-- resolution of the area in Ang\n",
    "d = 0.04 #discrete size\n",
    "\n",
    "#build df of structure\n",
    "df_atoms = pd.DataFrame(list(atoms.symbols),columns=['atom'])\n",
    "\n",
    "df_pos = pd.DataFrame(atoms.get_positions(),columns=['x','y','z'])\n",
    "df = pd.concat([df_atoms,df_pos], axis=1)\n",
    "#view the atoms if desired\n",
    "\n",
    "#grid excess\n",
    "grid_ex = 3"
   ]
  },
  {
   "cell_type": "code",
   "execution_count": null,
   "metadata": {},
   "outputs": [],
   "source": [
    "#build adsorbate from the geometry file\n",
    "M_H, M_C, M_O, M_ads, COP = center_ads(atoms)\n",
    "\n",
    "#build grid to enclose the adsorbate\n",
    "M_size,M_fill = build_ads_grid(M_ads,d,grid_ex)"
   ]
  },
  {
   "cell_type": "code",
   "execution_count": null,
   "metadata": {
    "scrolled": true
   },
   "outputs": [],
   "source": [
    "#obtain the coordinates of the C and H atoms in units of grids in the M matrix\n",
    "pos_H = M_H/d+np.ceil(M_size/2)\n",
    "pos_C = M_C/d+np.ceil(M_size/2)\n",
    "pos_O = M_O/d+np.ceil(M_size/2)\n"
   ]
  },
  {
   "cell_type": "code",
   "execution_count": null,
   "metadata": {},
   "outputs": [],
   "source": [
    "vdW_R_C = 1.7\n",
    "vdW_R_H = 1.2\n",
    "vdW_R_O = 1.52\n",
    "\n",
    "\n",
    "# get matrices to represent filled spheres\n",
    "C_size, C_fill = build_atom_volume(vdW_R_C,d)\n",
    "H_size, H_fill = build_atom_volume(vdW_R_H,d)\n",
    "O_size, O_fill = build_atom_volume(vdW_R_O,d)"
   ]
  },
  {
   "cell_type": "code",
   "execution_count": null,
   "metadata": {},
   "outputs": [],
   "source": [
    "M_fill,vdW_area = mol_2_vol_area(M_fill,pos_C,C_size,C_fill,d)\n",
    "M_fill,vdW_area = mol_2_vol_area(M_fill,pos_H,H_size,H_fill,d)\n",
    "M_fill,vdW_area = mol_2_vol_area(M_fill,pos_O,O_size,O_fill,d)\n",
    "\n",
    "f = open(\"vdW_area.txt\", \"a\")\n",
    "f.write(str(vdW_area))\n",
    "f.close()"
   ]
  }
 ],
 "metadata": {
  "kernelspec": {
   "display_name": "Python 3 (ipykernel)",
   "language": "python",
   "name": "python3"
  },
  "language_info": {
   "codemirror_mode": {
    "name": "ipython",
    "version": 3
   },
   "file_extension": ".py",
   "mimetype": "text/x-python",
   "name": "python",
   "nbconvert_exporter": "python",
   "pygments_lexer": "ipython3",
   "version": "3.11.1"
  }
 },
 "nbformat": 4,
 "nbformat_minor": 4
}
