{
 "cells": [
  {
   "cell_type": "markdown",
   "metadata": {},
   "source": [
    "workflow for reading adsorbate structures (of hydrocarbons) on metal surfaces and determining their effective site ensembles in catalysis. "
   ]
  },
  {
   "cell_type": "code",
   "execution_count": 1,
   "metadata": {
    "scrolled": true
   },
   "outputs": [],
   "source": [
    "import pandas as pd\n",
    "import numpy as np\n",
    "import scipy as sci\n",
    "from matplotlib import pyplot as plt\n",
    "from mpl_toolkits.mplot3d import Axes3D\n",
    "import copy\n",
    "\n",
    "from ase import Atoms\n",
    "\n",
    "from ase.visualize import view\n",
    "from ase.io import read\n",
    "from ase.io import write\n",
    "from ase.build import molecule\n",
    "from ase import units\n",
    "import os"
   ]
  },
  {
   "cell_type": "code",
   "execution_count": 2,
   "metadata": {},
   "outputs": [],
   "source": [
    "import sys\n",
    "\n",
    "path_custom_fns = \"/custom_functions\"\n",
    "sys.path.append(path_custom_fns)\n",
    "\n",
    "from excluded_area import (center_ads, build_ads_grid, build_atom_volume,\n",
    "                           mol_2_vol_area, mol_overlap_2D)"
   ]
  },
  {
   "cell_type": "markdown",
   "metadata": {},
   "source": [
    "Import adsorbate geometry file using Atomic Simulation Environment"
   ]
  },
  {
   "cell_type": "code",
   "execution_count": null,
   "metadata": {
    "scrolled": true
   },
   "outputs": [],
   "source": [
    "#input path to geometry file\n",
    "name_file = 'CO_FF_opt_example.xyz'\n",
    "\n",
    "#use ASE to read file and open as atoms object\n",
    "atoms = read(name_file)\n",
    "\n",
    "#grid cube dimension\n",
    "d = 0.04 #discrete size\n",
    "\n",
    "#build datafrom from structure coordinates\n",
    "df_atoms = pd.DataFrame(list(atoms.symbols),columns=['atom'])\n",
    "df_pos = pd.DataFrame(atoms.get_positions(),columns=['x','y','z'])\n",
    "df = pd.concat([df_atoms,df_pos], axis=1)\n",
    "\n",
    "#grid excess to ensure grid extends beyond vdW radii\n",
    "grid_ex = 3"
   ]
  },
  {
   "cell_type": "code",
   "execution_count": null,
   "metadata": {},
   "outputs": [],
   "source": [
    "#build adsorbate from the geometry file\n",
    "M_H, M_C, M_O, M_ads, COP = center_ads(atoms)\n",
    "\n",
    "#build 3D grid to enclose the adsorbate\n",
    "M_size,M_fill = build_ads_grid(M_ads,d,grid_ex)"
   ]
  },
  {
   "cell_type": "code",
   "execution_count": null,
   "metadata": {
    "scrolled": true
   },
   "outputs": [],
   "source": [
    "#obtain the grid positions of the C and H atoms in the M matrix\n",
    "pos_H = M_H/d+np.ceil(M_size/2)\n",
    "pos_C = M_C/d+np.ceil(M_size/2)\n",
    "pos_O = M_O/d+np.ceil(M_size/2)"
   ]
  },
  {
   "cell_type": "code",
   "execution_count": null,
   "metadata": {},
   "outputs": [],
   "source": [
    "#specify the van der Waals radii of C, H, and O\n",
    "vdW_R_C = 1.7\n",
    "vdW_R_H = 1.2\n",
    "vdW_R_O = 1.52\n",
    "\n",
    "# get matrices to represent filled spheres for each element\n",
    "C_size, C_fill = build_atom_volume(vdW_R_C,d)\n",
    "H_size, H_fill = build_atom_volume(vdW_R_H,d)\n",
    "O_size, O_fill = build_atom_volume(vdW_R_O,d)"
   ]
  },
  {
   "cell_type": "code",
   "execution_count": null,
   "metadata": {},
   "outputs": [],
   "source": [
    "#calculate vdW area by adding in each element\n",
    "M_fill,vdW_area = mol_2_vol_area(M_fill,pos_C,C_size,C_fill,d)\n",
    "M_fill,vdW_area = mol_2_vol_area(M_fill,pos_H,H_size,H_fill,d)\n",
    "M_fill,vdW_area = mol_2_vol_area(M_fill,pos_O,O_size,O_fill,d)"
   ]
  },
  {
   "cell_type": "code",
   "execution_count": null,
   "metadata": {},
   "outputs": [],
   "source": [
    "#find the radius of a circle with equivalent area to the molecules' vdW area\n",
    "R_ads_eff = np.sqrt(vdW_area/np.pi)\n",
    "\n",
    "#define a probe to trace the adsorbate for enclosed area calculation\n",
    "#use the original adsorbate as the probe to represent a single-component adlayer\n",
    "R_probe = R_ads_eff\n",
    "\n",
    "#build a matrix to represent the probe volume\n",
    "pr_size, pr_fill = build_atom_volume(R_probe,d)\n",
    "\n",
    "#build a 2D matrix representing the areal projection of the probe\n",
    "pr_fill_2d = np.sum(pr_fill,axis=2)\n",
    "pr_fill_2d[pr_fill_2d>1] = 1"
   ]
  },
  {
   "cell_type": "code",
   "execution_count": null,
   "metadata": {},
   "outputs": [],
   "source": [
    "#initialize a matrix to represent adsorbate in a larger grid to accomodate a tracing probe\n",
    "\n",
    "#start with the 2D projection of the adsorbate's volume\n",
    "M_fill_2d = np.sum(M_fill,axis=2)\n",
    "M_fill_2d[M_fill_2d>1] = 1\n",
    "\n",
    "#re-size grid the grid to extent beyond the limits of the adsorbate to accomodate the probe tracer\n",
    "#make a grid with dimension that matches diameter of adsorbate + 2x probe * 1.3\n",
    "l_grid = (R_ads_eff*2+2*(R_probe*2))*1.3\n",
    "\n",
    "#initialize the grid to use for probe-trace calculation\n",
    "M_fill_probe = np.zeros([int(np.ceil(l_grid/d)),int(np.ceil(l_grid/d))])\n",
    "\n",
    "x1,y1 = np.shape(M_fill_probe)\n",
    "x2,y2 = np.shape(M_fill_2d)\n",
    "\n",
    "#the location in the center\n",
    "x3 = int(np.floor((x1-x2)/2))\n",
    "y3 = int(np.floor((y1-y2)/2))\n",
    "\n",
    "#place the adsorbate at the origin of the M_fill_probe matrix\n",
    "M_fill_probe[x3:x3+x2,y3:y3+y2] = M_fill_2d"
   ]
  },
  {
   "cell_type": "code",
   "execution_count": null,
   "metadata": {},
   "outputs": [],
   "source": [
    "#initialize a grid to trace the molecular volume with the probe. Has the same dimensions as M_fill_probe \n",
    "\n",
    "x_size = np.shape(M_fill_probe)[0]\n",
    "y_size = np.shape(M_fill_probe)[1]\n",
    "\n",
    "probe_grid = np.zeros([x_size,y_size])\n",
    "\n",
    "#loop over the probe_grid matrix and test whether the probe overlaps with the molecular volume in the M_fill_probe matrix\n",
    "for i in range(int(x_size-pr_size[0])):\n",
    "    for j in range(int(y_size-pr_size[1])):\n",
    "        overlap = 0\n",
    "        #assign probe's position\n",
    "        pos_probe = np.array([i+pr_size[0]/2,j+pr_size[1]/2])\n",
    "        #determine if probe overlaps with adsorbate\n",
    "        overlap = mol_overlap_2D(M_fill_probe,pos_probe,pr_size[0:2],pr_fill_2d,d)\n",
    "        #identify overlap at sample position\n",
    "        probe_grid[int(i+pr_size[0]/2),int(j+pr_size[1]/2)]=overlap\n"
   ]
  },
  {
   "cell_type": "code",
   "execution_count": null,
   "metadata": {},
   "outputs": [],
   "source": [
    "#calculate probe traced area\n",
    "area_probe = np.sum(probe_grid)*d**2\n",
    "\n",
    "#convert area trace to excluded area:\n",
    "R_trace = np.sqrt(area_probe/np.pi)\n",
    "R_eff = R_trace-R_probe\n",
    "A_eff = np.pi*R_eff**2\n",
    "\n",
    "#export excluded area\n",
    "f = open(\"ads_probe_enclosed.txt\", \"a\")\n",
    "f.write(str(A_eff))\n",
    "f.close()"
   ]
  },
  {
   "cell_type": "code",
   "execution_count": null,
   "metadata": {},
   "outputs": [],
   "source": [
    "print(vdW_area)\n",
    "print(A_eff)"
   ]
  },
  {
   "cell_type": "code",
   "execution_count": null,
   "metadata": {},
   "outputs": [],
   "source": []
  }
 ],
 "metadata": {
  "kernelspec": {
   "display_name": "Python 3 (ipykernel)",
   "language": "python",
   "name": "python3"
  },
  "language_info": {
   "codemirror_mode": {
    "name": "ipython",
    "version": 3
   },
   "file_extension": ".py",
   "mimetype": "text/x-python",
   "name": "python",
   "nbconvert_exporter": "python",
   "pygments_lexer": "ipython3",
   "version": "3.11.1"
  }
 },
 "nbformat": 4,
 "nbformat_minor": 4
}
